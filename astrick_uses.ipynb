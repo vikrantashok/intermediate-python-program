{
 "cells": [
  {
   "cell_type": "code",
   "execution_count": 1,
   "id": "f45115dd-9d34-44d4-a7f1-f278894d77e9",
   "metadata": {},
   "outputs": [
    {
     "name": "stdout",
     "output_type": "stream",
     "text": [
      "35\n",
      "16\n"
     ]
    }
   ],
   "source": [
    "# multiplication\n",
    "result = 7 * 5\n",
    "print(result)\n",
    "\n",
    "# power operation\n",
    "result = 2 ** 4\n",
    "print(result)"
   ]
  },
  {
   "cell_type": "code",
   "execution_count": 2,
   "id": "5dffafe1-a777-4bd4-b168-ba344e9f6f59",
   "metadata": {},
   "outputs": [
    {
     "name": "stdout",
     "output_type": "stream",
     "text": [
      "[0, 0, 0, 0, 0, 0, 0, 0, 0, 0]\n",
      "[1, 2, 1, 2, 1, 2, 1, 2, 1, 2]\n"
     ]
    }
   ],
   "source": [
    "# list\n",
    "zeros = [0] * 10\n",
    "onetwos = [1, 2] * 5\n",
    "print(zeros)\n",
    "print(onetwos)"
   ]
  },
  {
   "cell_type": "code",
   "execution_count": 3,
   "id": "ba9a1a55-c4ff-4513-827a-44faeb0a43c7",
   "metadata": {},
   "outputs": [
    {
     "name": "stdout",
     "output_type": "stream",
     "text": [
      "Hey\n",
      "3\n",
      "[0, 1, 2]\n",
      "name Alex\n",
      "age 8\n"
     ]
    }
   ],
   "source": [
    "#args is arguments in a func which is not ,and kwargs which is keyword argument...it acpts dictionary\n",
    "def my_function(*args, **kwargs):\n",
    "    for arg in args:\n",
    "        print(arg)\n",
    "    for key in kwargs:\n",
    "        print(key, kwargs[key])\n",
    "     #het 3 [0,1,2] is args and name and age is kwargs   \n",
    "my_function(\"Hey\", 3, [0, 1, 2], name=\"Alex\", age=8)"
   ]
  },
  {
   "cell_type": "code",
   "execution_count": 4,
   "id": "a776dbc5-2427-4eb3-9c28-69b53adf34b2",
   "metadata": {},
   "outputs": [
    {
     "name": "stdout",
     "output_type": "stream",
     "text": [
      "1 2 3\n",
      "A B C\n",
      "4 5 6\n"
     ]
    }
   ],
   "source": [
    "def foo(a, b, c):\n",
    "    print(a, b, c)\n",
    "\n",
    "my_list = [1, 2, 3]\n",
    "foo(*my_list)\n",
    "\n",
    "my_string = \"ABC\"\n",
    "foo(*my_string)\n",
    "\n",
    "\n",
    "my_dict = {'a': 4, 'b': 5, 'c': 6}\n",
    "foo(**my_dict)"
   ]
  },
  {
   "cell_type": "code",
   "execution_count": 5,
   "id": "fd1b447e-3962-4229-aa69-35032c0ece4d",
   "metadata": {},
   "outputs": [
    {
     "name": "stdout",
     "output_type": "stream",
     "text": [
      "[1, 2, 3, 4, 5, 6, 7]\n",
      "8\n",
      "\n",
      "1\n",
      "[2, 3, 4, 5, 6, 7, 8]\n",
      "\n",
      "1\n",
      "[2, 3, 4, 5, 6, 7]\n",
      "8\n"
     ]
    }
   ],
   "source": [
    "numbers = (1, 2, 3, 4, 5, 6, 7, 8)\n",
    "\n",
    "*beginning, last = numbers\n",
    "print(beginning)\n",
    "print(last)\n",
    "\n",
    "print()\n",
    "\n",
    "first, *end = numbers\n",
    "print(first)\n",
    "print(end)\n",
    "\n",
    "print()\n",
    "first, *middle, last = numbers\n",
    "print(first)\n",
    "print(middle)\n",
    "print(last)"
   ]
  },
  {
   "cell_type": "code",
   "execution_count": 6,
   "id": "27eb9d72-f628-4e85-8e49-ffc83bb620c4",
   "metadata": {},
   "outputs": [
    {
     "name": "stdout",
     "output_type": "stream",
     "text": [
      "[1, 2, 3, 4, 5, 6]\n",
      "{'one': 1, 'two': 2, 'three': 3, 'four': 4}\n"
     ]
    }
   ],
   "source": [
    "# it used for merging\n",
    "my_tuple = (1, 2, 3)\n",
    "my_set = {4, 5, 6}\n",
    "my_list = [*my_tuple, *my_set]\n",
    "print(my_list)\n",
    "\n",
    "# merge two dictionaries with dict \n",
    "dict_a = {'one': 1, 'two': 2}\n",
    "dict_b = {'three': 3, 'four': 4}\n",
    "dict_c = {**dict_a, **dict_b}\n",
    "print(dict_c)"
   ]
  },
  {
   "cell_type": "code",
   "execution_count": null,
   "id": "26614266-d3aa-472c-8486-04a979a97210",
   "metadata": {},
   "outputs": [],
   "source": []
  }
 ],
 "metadata": {
  "kernelspec": {
   "display_name": "Python 3 (ipykernel)",
   "language": "python",
   "name": "python3"
  },
  "language_info": {
   "codemirror_mode": {
    "name": "ipython",
    "version": 3
   },
   "file_extension": ".py",
   "mimetype": "text/x-python",
   "name": "python",
   "nbconvert_exporter": "python",
   "pygments_lexer": "ipython3",
   "version": "3.10.2"
  }
 },
 "nbformat": 4,
 "nbformat_minor": 5
}
