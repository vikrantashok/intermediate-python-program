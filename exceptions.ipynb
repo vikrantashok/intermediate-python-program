{
 "cells": [
  {
   "cell_type": "code",
   "execution_count": 3,
   "id": "0d5e54c4-fedf-4e3b-85ad-07426b372c9b",
   "metadata": {},
   "outputs": [
    {
     "ename": "AssertionError",
     "evalue": "cool it is not positive",
     "output_type": "error",
     "traceback": [
      "\u001b[1;31m---------------------------------------------------------------------------\u001b[0m",
      "\u001b[1;31mAssertionError\u001b[0m                            Traceback (most recent call last)",
      "Input \u001b[1;32mIn [3]\u001b[0m, in \u001b[0;36m<module>\u001b[1;34m\u001b[0m\n\u001b[0;32m      1\u001b[0m x\u001b[38;5;241m=\u001b[39m\u001b[38;5;241m-\u001b[39m\u001b[38;5;241m4\u001b[39m\n\u001b[1;32m----> 2\u001b[0m \u001b[38;5;28;01massert\u001b[39;00m(x\u001b[38;5;241m>\u001b[39m\u001b[38;5;241m=\u001b[39m\u001b[38;5;241m0\u001b[39m),\u001b[38;5;124m'\u001b[39m\u001b[38;5;124mcool it is not positive\u001b[39m\u001b[38;5;124m'\u001b[39m\n",
      "\u001b[1;31mAssertionError\u001b[0m: cool it is not positive"
     ]
    }
   ],
   "source": [
    "#exception handling\n",
    "x=-4\n",
    "assert(x>=0),'cool it is not positive'"
   ]
  },
  {
   "cell_type": "code",
   "execution_count": 4,
   "id": "f0410d4c-aea2-4b65-9491-722f10117c83",
   "metadata": {},
   "outputs": [
    {
     "name": "stdout",
     "output_type": "stream",
     "text": [
      "oh no ,,,,its brokennnnnnn\n"
     ]
    }
   ],
   "source": [
    "#try except \n",
    "try:\n",
    "    x=4/0\n",
    "except:\n",
    "    print('oh no ,,,,its brokennnnnnn')"
   ]
  },
  {
   "cell_type": "code",
   "execution_count": 10,
   "id": "9cebb695-31a7-4bb8-9f3d-b6358f4d7fa2",
   "metadata": {},
   "outputs": [
    {
     "name": "stdout",
     "output_type": "stream",
     "text": [
      "some error occured.\n",
      "division by zero\n",
      " ZeroDivisionError \n",
      "A TypeError occured: unsupported operand type(s) for +: 'float' and 'str'\n",
      "this will run everytime\n"
     ]
    }
   ],
   "source": [
    "#fisrtly it will use try ,if error occurs it will go to except ,else will be using when no error occurs ,finally calls every time no matter what\n",
    "try:\n",
    "    a = 5 / 0\n",
    "except:\n",
    "    print('some error occured.') \n",
    "try:\n",
    "    a = 5 / 0\n",
    "except Exception as e:\n",
    "    print(e)\n",
    "try:\n",
    "    a = 5 / 0\n",
    "except ZeroDivisionError:\n",
    "    print(' ZeroDivisionError ')\n",
    "    \n",
    "\n",
    "try:\n",
    "    a = 5 / 1 \n",
    "    b = a + '10'\n",
    "except ZeroDivisionError as e:\n",
    "    print('A ZeroDivisionError occured:', e)\n",
    "except TypeError as e:\n",
    "    print('A TypeError occured:', e)\n",
    "finally:\n",
    "    print('this will run everytime')\n"
   ]
  },
  {
   "cell_type": "code",
   "execution_count": 12,
   "id": "5f66c378-e5bc-4320-be01-e22338e64ad1",
   "metadata": {},
   "outputs": [
    {
     "name": "stdout",
     "output_type": "stream",
     "text": [
      "value too high error\n"
     ]
    }
   ],
   "source": [
    "#user defined error\n",
    "class Value_too_high(Exception):\n",
    "    pass\n",
    "\n",
    "\n",
    "def test_val(x):\n",
    "    if x>100:\n",
    "        raise Value_too_high('value too high error')\n",
    "        \n",
    "        \n",
    "try:\n",
    "    test_val(200)\n",
    "except Value_too_high as e:\n",
    "    print(e)"
   ]
  },
  {
   "cell_type": "code",
   "execution_count": null,
   "id": "5927432d-5fdf-4110-b8e7-104c71b00d1c",
   "metadata": {},
   "outputs": [],
   "source": []
  }
 ],
 "metadata": {
  "kernelspec": {
   "display_name": "Python 3 (ipykernel)",
   "language": "python",
   "name": "python3"
  },
  "language_info": {
   "codemirror_mode": {
    "name": "ipython",
    "version": 3
   },
   "file_extension": ".py",
   "mimetype": "text/x-python",
   "name": "python",
   "nbconvert_exporter": "python",
   "pygments_lexer": "ipython3",
   "version": "3.10.2"
  }
 },
 "nbformat": 4,
 "nbformat_minor": 5
}
