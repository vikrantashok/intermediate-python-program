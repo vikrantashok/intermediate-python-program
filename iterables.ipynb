{
 "cells": [
  {
   "cell_type": "code",
   "execution_count": 1,
   "id": "d1cfbf70-24b2-4ca3-a1bf-861292177549",
   "metadata": {},
   "outputs": [
    {
     "name": "stdout",
     "output_type": "stream",
     "text": [
      "[(1, 3), (1, 4), (2, 3), (2, 4)]\n",
      "[(1, 3, 1, 3), (1, 3, 2, 3), (2, 3, 1, 3), (2, 3, 2, 3)]\n"
     ]
    }
   ],
   "source": [
    "from itertools import product\n",
    "\n",
    "prod = product([1, 2], [3, 4])\n",
    "\n",
    "print(list(prod)) \n",
    "\n",
    "#we convert the iterator to a list for printing\n",
    "\n",
    "# how many times it should repeat,give repeat arg\n",
    "prod = product([1, 2], [3], repeat=2)\n",
    "print(list(prod))\n",
    "#we convert the iterator to a list for printing\n"
   ]
  },
  {
   "cell_type": "code",
   "execution_count": 2,
   "id": "279384d0-adcd-4554-a4e8-1a4d42baf066",
   "metadata": {},
   "outputs": [
    {
     "name": "stdout",
     "output_type": "stream",
     "text": [
      "[(1, 2, 3), (1, 3, 2), (2, 1, 3), (2, 3, 1), (3, 1, 2), (3, 2, 1)]\n",
      "[(1, 2), (1, 3), (2, 1), (2, 3), (3, 1), (3, 2)]\n"
     ]
    }
   ],
   "source": [
    "from itertools import permutations\n",
    "\n",
    "perm = permutations([1, 2, 3])\n",
    "print(list(perm))\n",
    "\n",
    "perm = permutations([1, 2, 3], 2)\n",
    "print(list(perm))"
   ]
  },
  {
   "cell_type": "code",
   "execution_count": 3,
   "id": "f0ca3ee7-93f8-46e4-9361-ad8c1beb6c82",
   "metadata": {},
   "outputs": [
    {
     "name": "stdout",
     "output_type": "stream",
     "text": [
      "[(1, 2), (1, 3), (1, 4), (2, 3), (2, 4), (3, 4)]\n",
      "[(1, 1), (1, 2), (1, 3), (1, 4), (2, 2), (2, 3), (2, 4), (3, 3), (3, 4), (4, 4)]\n"
     ]
    }
   ],
   "source": [
    "from itertools import combinations, combinations_with_replacement\n",
    "\n",
    "#it will return list of tuples.\n",
    "comb = combinations([1, 2, 3, 4], 2)\n",
    "print(list(comb))\n",
    "\n",
    "comb = combinations_with_replacement([1, 2, 3, 4], 2)\n",
    "print(list(comb))"
   ]
  },
  {
   "cell_type": "code",
   "execution_count": 4,
   "id": "541e4ba7-f6fe-469c-b3d2-1fb27735ba8a",
   "metadata": {},
   "outputs": [
    {
     "name": "stdout",
     "output_type": "stream",
     "text": [
      "[1, 3, 6, 10]\n",
      "[1, 2, 6, 24]\n",
      "[1, 5, 5, 6, 6, 6]\n"
     ]
    }
   ],
   "source": [
    "from itertools import accumulate\n",
    "\n",
    "# returns sum till nth place at nth position\n",
    "acc = accumulate([1,2,3,4])\n",
    "print(list(acc))\n",
    "\n",
    "#we can import operator to use diffrent operations\n",
    "import operator\n",
    "acc = accumulate([1,2,3,4], func=operator.mul)\n",
    "print(list(acc))\n",
    "\n",
    "acc = accumulate([1,5,2,6,3,4], func=max)\n",
    "print(list(acc))"
   ]
  },
  {
   "cell_type": "code",
   "execution_count": 5,
   "id": "0f4059e1-f34f-467a-8b2e-aa754f7437f3",
   "metadata": {},
   "outputs": [
    {
     "name": "stdout",
     "output_type": "stream",
     "text": [
      "True [1, 2]\n",
      "False [3, 4]\n",
      "True ['hi', 'nice']\n",
      "False ['hello', 'cool']\n",
      "25 [{'name': 'Tim', 'age': 25}, {'name': 'Dan', 'age': 25}]\n",
      "27 [{'name': 'Lisa', 'age': 27}]\n",
      "28 [{'name': 'Claire', 'age': 28}]\n"
     ]
    }
   ],
   "source": [
    "from itertools import groupby\n",
    "\n",
    "# use a function as key\n",
    "def smaller_than_3(x):\n",
    "    return x < 3\n",
    "#there are 2 arg in groupby func ...key wiz bool func and list\n",
    "group_obj = groupby([1, 2, 3, 4], key=smaller_than_3)\n",
    "for key, group in group_obj:\n",
    "    print(key, list(group))\n",
    "    \n",
    "# some examples\n",
    "group_obj = groupby([\"hi\", \"nice\", \"hello\", \"cool\"], key=lambda x: \"i\" in x)\n",
    "for key, group in group_obj:\n",
    "    print(key, list(group))\n",
    "    \n",
    "persons = [{'name': 'Tim', 'age': 25}, {'name': 'Dan', 'age': 25}, \n",
    "           {'name': 'Lisa', 'age': 27}, {'name': 'Claire', 'age': 28}]\n",
    "\n",
    "for key, group in groupby(persons, key=lambda x: x['age']):\n",
    "    print(key, list(group))"
   ]
  },
  {
   "cell_type": "code",
   "execution_count": 6,
   "id": "2c2ac532-c64b-4f0b-89a6-fbaf66256844",
   "metadata": {},
   "outputs": [
    {
     "name": "stdout",
     "output_type": "stream",
     "text": [
      "10\n",
      "11\n",
      "12\n",
      "13\n",
      "\n",
      "1\n",
      "2\n",
      "3\n",
      "1\n",
      "2\n",
      "3\n",
      "\n",
      "A\n",
      "A\n",
      "A\n"
     ]
    }
   ],
   "source": [
    "from itertools import count, cycle, repeat\n",
    "# count\n",
    "for i in count(10):\n",
    "    print(i)\n",
    "    if  i >= 13:\n",
    "        break\n",
    "\n",
    "# cycle(iterable) : cycle infinitely through an iterable\n",
    "print(\"\")\n",
    "sum = 0\n",
    "for i in cycle([1, 2, 3]):\n",
    "    print(i)\n",
    "    sum += i\n",
    "    if sum >= 12:\n",
    "        break\n",
    "\n",
    "# repeat(x): repeat x infinitely or n times\n",
    "print(\"\")\n",
    "for i in repeat(\"A\", 3):\n",
    "    print(i)"
   ]
  },
  {
   "cell_type": "code",
   "execution_count": null,
   "id": "6c02a211-ca7c-47d3-aca5-eb038746d0fb",
   "metadata": {},
   "outputs": [],
   "source": []
  }
 ],
 "metadata": {
  "kernelspec": {
   "display_name": "Python 3 (ipykernel)",
   "language": "python",
   "name": "python3"
  },
  "language_info": {
   "codemirror_mode": {
    "name": "ipython",
    "version": 3
   },
   "file_extension": ".py",
   "mimetype": "text/x-python",
   "name": "python",
   "nbconvert_exporter": "python",
   "pygments_lexer": "ipython3",
   "version": "3.10.2"
  }
 },
 "nbformat": 4,
 "nbformat_minor": 5
}
