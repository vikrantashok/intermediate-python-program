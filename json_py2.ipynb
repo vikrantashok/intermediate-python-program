{
 "cells": [
  {
   "cell_type": "code",
   "execution_count": 2,
   "id": "4ed1c541-062c-476c-8a1a-269e384321a0",
   "metadata": {},
   "outputs": [
    {
     "name": "stdout",
     "output_type": "stream",
     "text": [
      "{\n",
      "    \"age\": 30,\n",
      "    \"city\": \"New York\",\n",
      "    \"hasChildren\": false,\n",
      "    \"name\": \"John\",\n",
      "    \"titles\": [\n",
      "        \"engineer\",\n",
      "        \"programmer\"\n",
      "    ]\n",
      "}\n"
     ]
    }
   ],
   "source": [
    "import json\n",
    "\n",
    "person = {\"name\": \"John\", \"age\": 30, \"city\": \"New York\", \"hasChildren\": False, \"titles\": [\"engineer\", \"programmer\"]}\n",
    "#in dumps ,,,,s stands for string\n",
    "person_json=json.dumps(person,indent=4,sort_keys=True)\n",
    "print(person_json)"
   ]
  },
  {
   "cell_type": "code",
   "execution_count": 4,
   "id": "c183b385-8961-40f5-aa29-d7514dbb658c",
   "metadata": {},
   "outputs": [
    {
     "name": "stdout",
     "output_type": "stream",
     "text": [
      "{\n",
      "    \"age\": 30,\n",
      "    \"city\": \"New York\",\n",
      "    \"hasChildren\": false,\n",
      "    \"name\": \"John\",\n",
      "    \"titles\": [\n",
      "        \"engineer\",\n",
      "        \"programmer\"\n",
      "    ]\n",
      "}\n"
     ]
    }
   ],
   "source": [
    "with open('person.json','w') as file:\n",
    "    json.dump(person,file,indent=4)\n",
    "print(person_json)"
   ]
  },
  {
   "cell_type": "code",
   "execution_count": 6,
   "id": "b6301d32-eb98-4bbd-ac32-ed21111e3241",
   "metadata": {},
   "outputs": [
    {
     "name": "stdout",
     "output_type": "stream",
     "text": [
      "{'age': 30, 'city': 'New York', 'hasChildren': False, 'name': 'John', 'titles': ['engineer', 'programmer']}\n"
     ]
    }
   ],
   "source": [
    "#if we want to convert json to python object use\n",
    "\n",
    "gg=json.loads(person_json)\n",
    "print(gg)"
   ]
  },
  {
   "cell_type": "code",
   "execution_count": 16,
   "id": "c82ef63c-06e2-4068-b3fd-967721826788",
   "metadata": {},
   "outputs": [
    {
     "name": "stdout",
     "output_type": "stream",
     "text": [
      "{\"name\": \"max\", \"age\": 27, \"User\": true}\n"
     ]
    }
   ],
   "source": [
    "import json\n",
    "class User:\n",
    "    def __init__(self,name,age):\n",
    "        self.name=name\n",
    "        self.age=age\n",
    "\n",
    "user=User('max',27)\n",
    "\n",
    "def encode_user(o):\n",
    "    if isinstance(o,User):\n",
    "        return {'name':o.name,'age':o.age,o.__class__.__name__:True}\n",
    "    else:\n",
    "        raise TypeError('Object of type User is not JSON serializable')\n",
    "\n",
    "user_json=json.dumps(user,default=encode_user)\n",
    "\n",
    "print(user_json)\n"
   ]
  },
  {
   "cell_type": "code",
   "execution_count": null,
   "id": "42be2acf-5a3b-4a13-8cad-378b68da5542",
   "metadata": {},
   "outputs": [],
   "source": []
  },
  {
   "cell_type": "code",
   "execution_count": null,
   "id": "b1b5fd52-9e00-4dfb-a3ec-34f067a0aaaf",
   "metadata": {},
   "outputs": [],
   "source": []
  }
 ],
 "metadata": {
  "kernelspec": {
   "display_name": "Python 3 (ipykernel)",
   "language": "python",
   "name": "python3"
  },
  "language_info": {
   "codemirror_mode": {
    "name": "ipython",
    "version": 3
   },
   "file_extension": ".py",
   "mimetype": "text/x-python",
   "name": "python",
   "nbconvert_exporter": "python",
   "pygments_lexer": "ipython3",
   "version": "3.10.2"
  }
 },
 "nbformat": 4,
 "nbformat_minor": 5
}
