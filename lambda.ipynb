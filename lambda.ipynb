{
 "cells": [
  {
   "cell_type": "code",
   "execution_count": 1,
   "id": "630285af-c3a5-411d-a41e-9a72f5db61bf",
   "metadata": {},
   "outputs": [
    {
     "name": "stdout",
     "output_type": "stream",
     "text": [
      "15\n",
      "14\n"
     ]
    }
   ],
   "source": [
    "#lambda arg:expression\n",
    "#it is just a short form of functions\n",
    "#just a quick use\n",
    "add10=lambda x:x+10\n",
    "print(add10(5))\n",
    "\n",
    "\n",
    "def add10_func(x):\n",
    "    return x+10\n",
    "\n",
    "\n",
    "mul=lambda x,y:x*y\n",
    "\n",
    "print(mul(2,7))"
   ]
  },
  {
   "cell_type": "code",
   "execution_count": 5,
   "id": "a070e42e-9a26-4838-bc8c-d93442337356",
   "metadata": {},
   "outputs": [
    {
     "name": "stdout",
     "output_type": "stream",
     "text": [
      "[(-11, -4), (2, -10), (3, 4), (7, 11), (34, 1)]\n",
      "[(2, -10), (-11, -4), (34, 1), (3, 4), (7, 11)]\n"
     ]
    }
   ],
   "source": [
    "##how to sort a 2d or any list \n",
    "#we can write sorted(list,reverse=true) to reverse the sorted list\n",
    "\n",
    "\n",
    "points2d=[(2,-10),(3,4),(34,1),(-11,-4),(7,11)]\n",
    "points2d_sorted=sorted(points2d)\n",
    "print(list(points2d_sorted))\n",
    "\n",
    "#for sorting from y index use this\n",
    "points2d_sorted_y=sorted(points2d,key=lambda x:x[1])\n",
    "print(points2d_sorted_y)"
   ]
  },
  {
   "cell_type": "code",
   "execution_count": 7,
   "id": "5f1116cf-5b9c-49fc-917b-a8c59e5976bc",
   "metadata": {},
   "outputs": [
    {
     "name": "stdout",
     "output_type": "stream",
     "text": [
      "[2, 4, 6, 8]\n"
     ]
    }
   ],
   "source": [
    "#map(func,seq)\n",
    "\n",
    "a=[1,2,3,4]\n",
    "b=map(lambda x:x*2,a)\n",
    "print(list(b))"
   ]
  },
  {
   "cell_type": "code",
   "execution_count": 10,
   "id": "c5874d79-2aea-4c1b-b0d7-575b2760fafd",
   "metadata": {},
   "outputs": [
    {
     "name": "stdout",
     "output_type": "stream",
     "text": [
      "[12, 42, 14, 84]\n",
      "[51, 1, 3, 67, 27]\n"
     ]
    }
   ],
   "source": [
    "#filter(func,seq)\n",
    "#returns all elements which is true\n",
    "a=[12,42,51,1,3,14,67,84,27]\n",
    "b=filter(lambda x:x%2==0,a)\n",
    "print(list(b))\n",
    "c=filter(lambda x:x%2!=0,a)\n",
    "print(list(c))"
   ]
  },
  {
   "cell_type": "code",
   "execution_count": 12,
   "id": "bf02403c-3970-4c6b-a60d-403c9a9015d8",
   "metadata": {},
   "outputs": [
    {
     "name": "stdout",
     "output_type": "stream",
     "text": [
      "720\n"
     ]
    }
   ],
   "source": [
    "#reduce(func,seq)\n",
    "#it reapeats operation from 12 23 34 45 likewise\n",
    "from functools import reduce\n",
    "a=[1,2,3,4,5,6]\n",
    "product_a=reduce(lambda x,y:x*y,a)\n",
    "print(product_a)\n"
   ]
  },
  {
   "cell_type": "code",
   "execution_count": null,
   "id": "439cdccc-529a-4568-af22-235bab2c329b",
   "metadata": {},
   "outputs": [],
   "source": []
  }
 ],
 "metadata": {
  "kernelspec": {
   "display_name": "Python 3 (ipykernel)",
   "language": "python",
   "name": "python3"
  },
  "language_info": {
   "codemirror_mode": {
    "name": "ipython",
    "version": 3
   },
   "file_extension": ".py",
   "mimetype": "text/x-python",
   "name": "python",
   "nbconvert_exporter": "python",
   "pygments_lexer": "ipython3",
   "version": "3.10.2"
  }
 },
 "nbformat": 4,
 "nbformat_minor": 5
}
